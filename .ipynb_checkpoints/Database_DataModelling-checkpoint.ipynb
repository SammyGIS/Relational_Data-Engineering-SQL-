{
 "cells": [
  {
   "cell_type": "code",
   "execution_count": 4,
   "id": "461a42d6",
   "metadata": {},
   "outputs": [],
   "source": [
    "import pandas as pd\n",
    "import psycopg2\n",
    "import os\n",
    "from os import path, listdir\n",
    "from os.path import join"
   ]
  },
  {
   "cell_type": "code",
   "execution_count": 8,
   "id": "4d7adb7d",
   "metadata": {},
   "outputs": [
    {
     "data": {
      "text/plain": [
       "['friends_table.csv',\n",
       " 'posts_table.csv',\n",
       " 'reactions_table.csv',\n",
       " 'user_table.csv']"
      ]
     },
     "execution_count": 8,
     "metadata": {},
     "output_type": "execute_result"
    }
   ],
   "source": [
    "# show the list of all the data in the folder\n",
    "path = \"../Data Engineer/data\"\n",
    "listdir(path)"
   ]
  },
  {
   "cell_type": "code",
   "execution_count": 13,
   "id": "d3fe1037",
   "metadata": {},
   "outputs": [],
   "source": [
    "def open_data(name,directory=path):\n",
    "    data = os.path.join(directory,name)\n",
    "    return pd.read_csv(data)"
   ]
  },
  {
   "cell_type": "code",
   "execution_count": 15,
   "id": "01ac749f",
   "metadata": {},
   "outputs": [
    {
     "data": {
      "text/html": [
       "<div>\n",
       "<style scoped>\n",
       "    .dataframe tbody tr th:only-of-type {\n",
       "        vertical-align: middle;\n",
       "    }\n",
       "\n",
       "    .dataframe tbody tr th {\n",
       "        vertical-align: top;\n",
       "    }\n",
       "\n",
       "    .dataframe thead th {\n",
       "        text-align: right;\n",
       "    }\n",
       "</style>\n",
       "<table border=\"1\" class=\"dataframe\">\n",
       "  <thead>\n",
       "    <tr style=\"text-align: right;\">\n",
       "      <th></th>\n",
       "      <th>Friend 1</th>\n",
       "      <th>Friend 2</th>\n",
       "    </tr>\n",
       "  </thead>\n",
       "  <tbody>\n",
       "    <tr>\n",
       "      <th>0</th>\n",
       "      <td>1</td>\n",
       "      <td>555</td>\n",
       "    </tr>\n",
       "    <tr>\n",
       "      <th>1</th>\n",
       "      <td>1</td>\n",
       "      <td>921</td>\n",
       "    </tr>\n",
       "    <tr>\n",
       "      <th>2</th>\n",
       "      <td>1</td>\n",
       "      <td>213</td>\n",
       "    </tr>\n",
       "    <tr>\n",
       "      <th>3</th>\n",
       "      <td>1</td>\n",
       "      <td>184</td>\n",
       "    </tr>\n",
       "    <tr>\n",
       "      <th>4</th>\n",
       "      <td>1</td>\n",
       "      <td>242</td>\n",
       "    </tr>\n",
       "  </tbody>\n",
       "</table>\n",
       "</div>"
      ],
      "text/plain": [
       "   Friend 1  Friend 2\n",
       "0         1       555\n",
       "1         1       921\n",
       "2         1       213\n",
       "3         1       184\n",
       "4         1       242"
      ]
     },
     "execution_count": 15,
     "metadata": {},
     "output_type": "execute_result"
    }
   ],
   "source": [
    "friends_df = open_data('friends_table.csv')\n",
    "friends_df.head()"
   ]
  },
  {
   "cell_type": "code",
   "execution_count": 44,
   "id": "eae53d0b",
   "metadata": {},
   "outputs": [
    {
     "data": {
      "text/plain": [
       "1000"
      ]
     },
     "execution_count": 44,
     "metadata": {},
     "output_type": "execute_result"
    }
   ],
   "source": [
    "friends_df[\"Friend 1\"].max()"
   ]
  },
  {
   "cell_type": "code",
   "execution_count": 16,
   "id": "6dcade0b",
   "metadata": {},
   "outputs": [
    {
     "data": {
      "text/html": [
       "<div>\n",
       "<style scoped>\n",
       "    .dataframe tbody tr th:only-of-type {\n",
       "        vertical-align: middle;\n",
       "    }\n",
       "\n",
       "    .dataframe tbody tr th {\n",
       "        vertical-align: top;\n",
       "    }\n",
       "\n",
       "    .dataframe thead th {\n",
       "        text-align: right;\n",
       "    }\n",
       "</style>\n",
       "<table border=\"1\" class=\"dataframe\">\n",
       "  <thead>\n",
       "    <tr style=\"text-align: right;\">\n",
       "      <th></th>\n",
       "      <th>User</th>\n",
       "      <th>Post Type</th>\n",
       "      <th>Post Date</th>\n",
       "    </tr>\n",
       "  </thead>\n",
       "  <tbody>\n",
       "    <tr>\n",
       "      <th>0</th>\n",
       "      <td>1</td>\n",
       "      <td>Image</td>\n",
       "      <td>1588166977</td>\n",
       "    </tr>\n",
       "    <tr>\n",
       "      <th>1</th>\n",
       "      <td>1</td>\n",
       "      <td>Status_Change</td>\n",
       "      <td>1588167686</td>\n",
       "    </tr>\n",
       "    <tr>\n",
       "      <th>2</th>\n",
       "      <td>1</td>\n",
       "      <td>Text</td>\n",
       "      <td>1588168633</td>\n",
       "    </tr>\n",
       "    <tr>\n",
       "      <th>3</th>\n",
       "      <td>1</td>\n",
       "      <td>Image</td>\n",
       "      <td>1588163570</td>\n",
       "    </tr>\n",
       "    <tr>\n",
       "      <th>4</th>\n",
       "      <td>1</td>\n",
       "      <td>Image</td>\n",
       "      <td>1588168986</td>\n",
       "    </tr>\n",
       "  </tbody>\n",
       "</table>\n",
       "</div>"
      ],
      "text/plain": [
       "   User      Post Type   Post Date\n",
       "0     1          Image  1588166977\n",
       "1     1  Status_Change  1588167686\n",
       "2     1           Text  1588168633\n",
       "3     1          Image  1588163570\n",
       "4     1          Image  1588168986"
      ]
     },
     "execution_count": 16,
     "metadata": {},
     "output_type": "execute_result"
    }
   ],
   "source": [
    "posts_df = open_data('posts_table.csv')\n",
    "posts_df.head()"
   ]
  },
  {
   "cell_type": "code",
   "execution_count": 45,
   "id": "6fb49b41",
   "metadata": {},
   "outputs": [
    {
     "data": {
      "text/plain": [
       "count    13158.000000\n",
       "mean       504.566347\n",
       "std        289.159974\n",
       "min          1.000000\n",
       "25%        257.000000\n",
       "50%        500.000000\n",
       "75%        757.000000\n",
       "max       1000.000000\n",
       "Name: User, dtype: float64"
      ]
     },
     "execution_count": 45,
     "metadata": {},
     "output_type": "execute_result"
    }
   ],
   "source": [
    "posts_df.User.describe()"
   ]
  },
  {
   "cell_type": "code",
   "execution_count": 17,
   "id": "cc89fbb1",
   "metadata": {},
   "outputs": [
    {
     "data": {
      "text/html": [
       "<div>\n",
       "<style scoped>\n",
       "    .dataframe tbody tr th:only-of-type {\n",
       "        vertical-align: middle;\n",
       "    }\n",
       "\n",
       "    .dataframe tbody tr th {\n",
       "        vertical-align: top;\n",
       "    }\n",
       "\n",
       "    .dataframe thead th {\n",
       "        text-align: right;\n",
       "    }\n",
       "</style>\n",
       "<table border=\"1\" class=\"dataframe\">\n",
       "  <thead>\n",
       "    <tr style=\"text-align: right;\">\n",
       "      <th></th>\n",
       "      <th>User</th>\n",
       "      <th>Reaction Type</th>\n",
       "      <th>Reaction Date</th>\n",
       "    </tr>\n",
       "  </thead>\n",
       "  <tbody>\n",
       "    <tr>\n",
       "      <th>0</th>\n",
       "      <td>3741</td>\n",
       "      <td>Comment</td>\n",
       "      <td>1588168107</td>\n",
       "    </tr>\n",
       "    <tr>\n",
       "      <th>1</th>\n",
       "      <td>711</td>\n",
       "      <td>Emoticon</td>\n",
       "      <td>1588166846</td>\n",
       "    </tr>\n",
       "    <tr>\n",
       "      <th>2</th>\n",
       "      <td>701</td>\n",
       "      <td>Emoticon</td>\n",
       "      <td>1588163334</td>\n",
       "    </tr>\n",
       "    <tr>\n",
       "      <th>3</th>\n",
       "      <td>4750</td>\n",
       "      <td>Emoticon</td>\n",
       "      <td>1588168182</td>\n",
       "    </tr>\n",
       "    <tr>\n",
       "      <th>4</th>\n",
       "      <td>656</td>\n",
       "      <td>Comment</td>\n",
       "      <td>1588162272</td>\n",
       "    </tr>\n",
       "  </tbody>\n",
       "</table>\n",
       "</div>"
      ],
      "text/plain": [
       "   User Reaction Type  Reaction Date\n",
       "0  3741       Comment     1588168107\n",
       "1   711      Emoticon     1588166846\n",
       "2   701      Emoticon     1588163334\n",
       "3  4750      Emoticon     1588168182\n",
       "4   656       Comment     1588162272"
      ]
     },
     "execution_count": 17,
     "metadata": {},
     "output_type": "execute_result"
    }
   ],
   "source": [
    "reactions_df = open_data('reactions_table.csv')\n",
    "reactions_df.head()"
   ]
  },
  {
   "cell_type": "code",
   "execution_count": 19,
   "id": "feb6a715",
   "metadata": {},
   "outputs": [
    {
     "data": {
      "text/html": [
       "<div>\n",
       "<style scoped>\n",
       "    .dataframe tbody tr th:only-of-type {\n",
       "        vertical-align: middle;\n",
       "    }\n",
       "\n",
       "    .dataframe tbody tr th {\n",
       "        vertical-align: top;\n",
       "    }\n",
       "\n",
       "    .dataframe thead th {\n",
       "        text-align: right;\n",
       "    }\n",
       "</style>\n",
       "<table border=\"1\" class=\"dataframe\">\n",
       "  <thead>\n",
       "    <tr style=\"text-align: right;\">\n",
       "      <th></th>\n",
       "      <th>Surname</th>\n",
       "      <th>Name</th>\n",
       "      <th>Age</th>\n",
       "      <th>Subscription Date</th>\n",
       "    </tr>\n",
       "  </thead>\n",
       "  <tbody>\n",
       "    <tr>\n",
       "      <th>0</th>\n",
       "      <td>Smith</td>\n",
       "      <td>Sarah</td>\n",
       "      <td>30</td>\n",
       "      <td>1588157373</td>\n",
       "    </tr>\n",
       "    <tr>\n",
       "      <th>1</th>\n",
       "      <td>Picard</td>\n",
       "      <td>Francine</td>\n",
       "      <td>32</td>\n",
       "      <td>1588161732</td>\n",
       "    </tr>\n",
       "    <tr>\n",
       "      <th>2</th>\n",
       "      <td>Roth</td>\n",
       "      <td>Hans</td>\n",
       "      <td>40</td>\n",
       "      <td>1588157337</td>\n",
       "    </tr>\n",
       "    <tr>\n",
       "      <th>3</th>\n",
       "      <td>Pomme</td>\n",
       "      <td>Ali</td>\n",
       "      <td>28</td>\n",
       "      <td>1588165636</td>\n",
       "    </tr>\n",
       "    <tr>\n",
       "      <th>4</th>\n",
       "      <td>Di Lillo</td>\n",
       "      <td>Jordi</td>\n",
       "      <td>42</td>\n",
       "      <td>1588156042</td>\n",
       "    </tr>\n",
       "  </tbody>\n",
       "</table>\n",
       "</div>"
      ],
      "text/plain": [
       "    Surname      Name  Age  Subscription Date\n",
       "0     Smith     Sarah   30         1588157373\n",
       "1    Picard  Francine   32         1588161732\n",
       "2      Roth      Hans   40         1588157337\n",
       "3     Pomme       Ali   28         1588165636\n",
       "4  Di Lillo     Jordi   42         1588156042"
      ]
     },
     "execution_count": 19,
     "metadata": {},
     "output_type": "execute_result"
    }
   ],
   "source": [
    "users_df = open_data('user_table.csv')\n",
    "users_df.head()"
   ]
  },
  {
   "cell_type": "code",
   "execution_count": 84,
   "id": "ee4e8fb9",
   "metadata": {},
   "outputs": [
    {
     "data": {
      "text/html": [
       "<div>\n",
       "<style scoped>\n",
       "    .dataframe tbody tr th:only-of-type {\n",
       "        vertical-align: middle;\n",
       "    }\n",
       "\n",
       "    .dataframe tbody tr th {\n",
       "        vertical-align: top;\n",
       "    }\n",
       "\n",
       "    .dataframe thead th {\n",
       "        text-align: right;\n",
       "    }\n",
       "</style>\n",
       "<table border=\"1\" class=\"dataframe\">\n",
       "  <thead>\n",
       "    <tr style=\"text-align: right;\">\n",
       "      <th></th>\n",
       "      <th>Surname</th>\n",
       "      <th>Name</th>\n",
       "      <th>Age</th>\n",
       "      <th>Subscription Date</th>\n",
       "      <th>User</th>\n",
       "    </tr>\n",
       "  </thead>\n",
       "  <tbody>\n",
       "    <tr>\n",
       "      <th>0</th>\n",
       "      <td>Smith</td>\n",
       "      <td>Sarah</td>\n",
       "      <td>30</td>\n",
       "      <td>1588157373</td>\n",
       "      <td>1</td>\n",
       "    </tr>\n",
       "    <tr>\n",
       "      <th>1</th>\n",
       "      <td>Picard</td>\n",
       "      <td>Francine</td>\n",
       "      <td>32</td>\n",
       "      <td>1588161732</td>\n",
       "      <td>2</td>\n",
       "    </tr>\n",
       "    <tr>\n",
       "      <th>2</th>\n",
       "      <td>Roth</td>\n",
       "      <td>Hans</td>\n",
       "      <td>40</td>\n",
       "      <td>1588157337</td>\n",
       "      <td>3</td>\n",
       "    </tr>\n",
       "    <tr>\n",
       "      <th>3</th>\n",
       "      <td>Pomme</td>\n",
       "      <td>Ali</td>\n",
       "      <td>28</td>\n",
       "      <td>1588165636</td>\n",
       "      <td>4</td>\n",
       "    </tr>\n",
       "    <tr>\n",
       "      <th>4</th>\n",
       "      <td>Di Lillo</td>\n",
       "      <td>Jordi</td>\n",
       "      <td>42</td>\n",
       "      <td>1588156042</td>\n",
       "      <td>5</td>\n",
       "    </tr>\n",
       "    <tr>\n",
       "      <th>...</th>\n",
       "      <td>...</td>\n",
       "      <td>...</td>\n",
       "      <td>...</td>\n",
       "      <td>...</td>\n",
       "      <td>...</td>\n",
       "    </tr>\n",
       "    <tr>\n",
       "      <th>995</th>\n",
       "      <td>Kirk</td>\n",
       "      <td>Lee</td>\n",
       "      <td>19</td>\n",
       "      <td>1588160246</td>\n",
       "      <td>996</td>\n",
       "    </tr>\n",
       "    <tr>\n",
       "      <th>996</th>\n",
       "      <td>Pomme</td>\n",
       "      <td>Franz</td>\n",
       "      <td>40</td>\n",
       "      <td>1588159625</td>\n",
       "      <td>997</td>\n",
       "    </tr>\n",
       "    <tr>\n",
       "      <th>997</th>\n",
       "      <td>Gwahsi</td>\n",
       "      <td>Thomas</td>\n",
       "      <td>40</td>\n",
       "      <td>1588165504</td>\n",
       "      <td>998</td>\n",
       "    </tr>\n",
       "    <tr>\n",
       "      <th>998</th>\n",
       "      <td>Beierlorzer</td>\n",
       "      <td>Jean-Luc</td>\n",
       "      <td>32</td>\n",
       "      <td>1588151074</td>\n",
       "      <td>999</td>\n",
       "    </tr>\n",
       "    <tr>\n",
       "      <th>999</th>\n",
       "      <td>Thronton</td>\n",
       "      <td>Franz</td>\n",
       "      <td>28</td>\n",
       "      <td>1588171183</td>\n",
       "      <td>1000</td>\n",
       "    </tr>\n",
       "  </tbody>\n",
       "</table>\n",
       "<p>1000 rows × 5 columns</p>\n",
       "</div>"
      ],
      "text/plain": [
       "         Surname      Name  Age  Subscription Date  User\n",
       "0          Smith     Sarah   30         1588157373     1\n",
       "1         Picard  Francine   32         1588161732     2\n",
       "2           Roth      Hans   40         1588157337     3\n",
       "3          Pomme       Ali   28         1588165636     4\n",
       "4       Di Lillo     Jordi   42         1588156042     5\n",
       "..           ...       ...  ...                ...   ...\n",
       "995         Kirk       Lee   19         1588160246   996\n",
       "996        Pomme     Franz   40         1588159625   997\n",
       "997       Gwahsi    Thomas   40         1588165504   998\n",
       "998  Beierlorzer  Jean-Luc   32         1588151074   999\n",
       "999     Thronton     Franz   28         1588171183  1000\n",
       "\n",
       "[1000 rows x 5 columns]"
      ]
     },
     "execution_count": 84,
     "metadata": {},
     "output_type": "execute_result"
    }
   ],
   "source": [
    "def add_UserID(file):\n",
    "    user_id = list(range(1,(len(users_df)+1)))\n",
    "    file.User = user_id\n",
    "    return file\n",
    "    \n",
    "users_df.apply(add_UserID)"
   ]
  },
  {
   "cell_type": "markdown",
   "id": "dcfcae87",
   "metadata": {},
   "source": []
  },
  {
   "cell_type": "markdown",
   "id": "628df566",
   "metadata": {},
   "source": [
    "## Database Connection\n",
    "\n",
    "Create a connection to the database"
   ]
  },
  {
   "cell_type": "code",
   "execution_count": 87,
   "id": "28368f72",
   "metadata": {},
   "outputs": [],
   "source": [
    "try:\n",
    "    conn = psycopg2.connect(\"host=localhost dbname=postgres user=postgres password = 1118\")\n",
    "except psycopg2.Error as e:\n",
    "    print(\"Error: Could not make a connection to the Postgres database\")\n",
    "    print(e)"
   ]
  },
  {
   "cell_type": "markdown",
   "id": "19a777b3",
   "metadata": {},
   "source": [
    "### Use the connection to get a cursor that can be used ti excecute the queries"
   ]
  },
  {
   "cell_type": "code",
   "execution_count": 88,
   "id": "034cb605",
   "metadata": {},
   "outputs": [],
   "source": [
    "try:\n",
    "    cur = conn.cursor()\n",
    "except psycopg2.Error as e:\n",
    "    print(\"Error: Could not get cursor ro the Database\")\n",
    "    print(e)"
   ]
  },
  {
   "cell_type": "markdown",
   "id": "0416ef22",
   "metadata": {},
   "source": [
    "### Set automatic comiit to Ture, so that each command is executed instantly "
   ]
  },
  {
   "cell_type": "code",
   "execution_count": 89,
   "id": "dd123ad3",
   "metadata": {},
   "outputs": [],
   "source": [
    "conn.set_session(autocommit = True)"
   ]
  },
  {
   "cell_type": "markdown",
   "id": "34c3b557",
   "metadata": {},
   "source": [
    "### Create a Database to work in"
   ]
  },
  {
   "cell_type": "code",
   "execution_count": 91,
   "id": "1d390c4c",
   "metadata": {},
   "outputs": [],
   "source": [
    "try:\n",
    "    cur.execute(\"CREATE DATABASE socialmediadb\")\n",
    "except psycopg2.Error as e:\n",
    "        print(e)"
   ]
  },
  {
   "cell_type": "code",
   "execution_count": 94,
   "id": "701f7e9e",
   "metadata": {},
   "outputs": [],
   "source": [
    "# close the postgres database\n",
    "try:\n",
    "    conn.close()\n",
    "except psycopg2.Error as e:\n",
    "    print(e)\n",
    "     \n",
    "    \n",
    "#connect new database\n",
    "\n",
    "try:\n",
    "    conn = psycopg2.connect(\"host=localhost dbname=socialmediadb user=postgres password=1118\")\n",
    "except psycopg2.Error as e:\n",
    "    print(\"Error: could not make connection to the database\")\n",
    "    print(e)\n",
    "    \n",
    "#insert cursor into your database\n",
    "\n",
    "try:\n",
    "    cur = conn.cursor()\n",
    "except psycopg2.Error as e:\n",
    "    print(\"Error: could not insert cursor into the database\")\n",
    "    print(e)\n",
    "    \n",
    "    \n",
    "# set auto commit\n",
    "conn.set_session(autocommit=True)"
   ]
  },
  {
   "cell_type": "markdown",
   "id": "b082225a",
   "metadata": {},
   "source": [
    "### Create table for each of the dataframe"
   ]
  },
  {
   "cell_type": "code",
   "execution_count": 95,
   "id": "4980f1fb",
   "metadata": {},
   "outputs": [
    {
     "data": {
      "text/plain": [
       "Index(['Surname', 'Name', 'Age', 'Subscription Date', 'User'], dtype='object')"
      ]
     },
     "execution_count": 95,
     "metadata": {},
     "output_type": "execute_result"
    }
   ],
   "source": [
    "users_df.columns"
   ]
  },
  {
   "cell_type": "code",
   "execution_count": 102,
   "id": "4ee93f1a",
   "metadata": {},
   "outputs": [
    {
     "name": "stdout",
     "output_type": "stream",
     "text": [
      "Error: Issue creating table\n",
      "syntax error at or near \"User\"\n",
      "LINE 1: CREATE TABLE IF NOT EXISTS users (User int, Surname varchar,...\n",
      "                                          ^\n",
      "\n"
     ]
    }
   ],
   "source": [
    "try:\n",
    "    cur.execute(\"CREATE TABLE IF NOT EXISTS users (User int, Surname varchar, Name varchar,\\\n",
    "    Age int, Subscription_date date);\")\n",
    "\n",
    "except psycopg2.Error as e:\n",
    "    print(\"Error: Issue creating table\")\n",
    "    print(e) "
   ]
  },
  {
   "cell_type": "code",
   "execution_count": null,
   "id": "89d4290d",
   "metadata": {},
   "outputs": [],
   "source": []
  }
 ],
 "metadata": {
  "kernelspec": {
   "display_name": "Python 3 (ipykernel)",
   "language": "python",
   "name": "python3"
  },
  "language_info": {
   "codemirror_mode": {
    "name": "ipython",
    "version": 3
   },
   "file_extension": ".py",
   "mimetype": "text/x-python",
   "name": "python",
   "nbconvert_exporter": "python",
   "pygments_lexer": "ipython3",
   "version": "3.7.0"
  }
 },
 "nbformat": 4,
 "nbformat_minor": 5
}
