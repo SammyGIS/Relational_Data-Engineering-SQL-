{
 "cells": [
  {
   "cell_type": "markdown",
   "id": "bc594060",
   "metadata": {},
   "source": [
    "# CONTEXT"
   ]
  },
  {
   "cell_type": "markdown",
   "id": "16854017",
   "metadata": {},
   "source": [
    "This dataset contains four tables about social media users.\n",
    "\n",
    "* Users. csv contains data about the users of the social net.\n",
    "* Friends.csv contains data about their friendship status\n",
    "* Posts.csv contains data about the posts they made\n",
    "* Reactions.csv contains data about the reactions to posts by their friends\n",
    "* Task: Combine the tables in a way that lets you answer the following questions\n",
    "\n",
    "\n",
    "Link to the dataset:"
   ]
  },
  {
   "cell_type": "markdown",
   "id": "f48f4312",
   "metadata": {},
   "source": [
    "## Question to be answered\n",
    "\n",
    "* What is the most common name on the social net? How many people belong to that name?\n",
    "* List the five people with the most posts and reactions combined.\n",
    "* Create a plot of the friendship graph for all users named „Jean-Luc Picard“ (up to degree 2)"
   ]
  },
  {
   "cell_type": "code",
   "execution_count": 5,
   "id": "ea70cedd",
   "metadata": {},
   "outputs": [],
   "source": [
    "import pandas as pd\n",
    "import psycopg2\n",
    "import os\n",
    "from os import path, listdir\n",
    "from os.path import join"
   ]
  },
  {
   "cell_type": "code",
   "execution_count": 2,
   "id": "7c0cebec",
   "metadata": {},
   "outputs": [
    {
     "data": {
      "text/plain": [
       "['friends_table.csv',\n",
       " 'posts_table.csv',\n",
       " 'reactions_table.csv',\n",
       " 'user_table.csv']"
      ]
     },
     "execution_count": 2,
     "metadata": {},
     "output_type": "execute_result"
    }
   ],
   "source": [
    "# show the list of all the data in the folder\n",
    "path = \"../Data Engineer/data\"\n",
    "listdir(path)"
   ]
  },
  {
   "cell_type": "markdown",
   "id": "3a10aad1",
   "metadata": {},
   "source": [
    "## Create a function that can be used to load the data into dataframe easily"
   ]
  },
  {
   "cell_type": "code",
   "execution_count": 3,
   "id": "655c6434",
   "metadata": {},
   "outputs": [],
   "source": [
    "def open_data(name,directory=path):\n",
    "    data = os.path.join(directory,name)\n",
    "    return pd.read_csv(data)"
   ]
  },
  {
   "cell_type": "markdown",
   "id": "15606858",
   "metadata": {},
   "source": [
    "### Load the Friend ID Data"
   ]
  },
  {
   "cell_type": "code",
   "execution_count": 4,
   "id": "f4cadbc1",
   "metadata": {},
   "outputs": [
    {
     "data": {
      "text/html": [
       "<div>\n",
       "<style scoped>\n",
       "    .dataframe tbody tr th:only-of-type {\n",
       "        vertical-align: middle;\n",
       "    }\n",
       "\n",
       "    .dataframe tbody tr th {\n",
       "        vertical-align: top;\n",
       "    }\n",
       "\n",
       "    .dataframe thead th {\n",
       "        text-align: right;\n",
       "    }\n",
       "</style>\n",
       "<table border=\"1\" class=\"dataframe\">\n",
       "  <thead>\n",
       "    <tr style=\"text-align: right;\">\n",
       "      <th></th>\n",
       "      <th>Friend 1</th>\n",
       "      <th>Friend 2</th>\n",
       "    </tr>\n",
       "  </thead>\n",
       "  <tbody>\n",
       "    <tr>\n",
       "      <th>0</th>\n",
       "      <td>1</td>\n",
       "      <td>555</td>\n",
       "    </tr>\n",
       "    <tr>\n",
       "      <th>1</th>\n",
       "      <td>1</td>\n",
       "      <td>921</td>\n",
       "    </tr>\n",
       "    <tr>\n",
       "      <th>2</th>\n",
       "      <td>1</td>\n",
       "      <td>213</td>\n",
       "    </tr>\n",
       "    <tr>\n",
       "      <th>3</th>\n",
       "      <td>1</td>\n",
       "      <td>184</td>\n",
       "    </tr>\n",
       "    <tr>\n",
       "      <th>4</th>\n",
       "      <td>1</td>\n",
       "      <td>242</td>\n",
       "    </tr>\n",
       "  </tbody>\n",
       "</table>\n",
       "</div>"
      ],
      "text/plain": [
       "   Friend 1  Friend 2\n",
       "0         1       555\n",
       "1         1       921\n",
       "2         1       213\n",
       "3         1       184\n",
       "4         1       242"
      ]
     },
     "execution_count": 4,
     "metadata": {},
     "output_type": "execute_result"
    }
   ],
   "source": [
    "friends_df = open_data('friends_table.csv')\n",
    "friends_df.head()"
   ]
  },
  {
   "cell_type": "code",
   "execution_count": 8,
   "id": "d47e89d0",
   "metadata": {},
   "outputs": [
    {
     "data": {
      "text/plain": [
       "(1000, 1000)"
      ]
     },
     "execution_count": 8,
     "metadata": {},
     "output_type": "execute_result"
    }
   ],
   "source": [
    "# print the max id for friend 1 and two\n",
    "friends_df[\"Friend 1\"].max(), friends_df[\"Friend 2\"].max()"
   ]
  },
  {
   "cell_type": "markdown",
   "id": "cb32c3ba",
   "metadata": {},
   "source": [
    "### Load the the Post Data"
   ]
  },
  {
   "cell_type": "code",
   "execution_count": 6,
   "id": "1b1fa6d8",
   "metadata": {},
   "outputs": [
    {
     "data": {
      "text/html": [
       "<div>\n",
       "<style scoped>\n",
       "    .dataframe tbody tr th:only-of-type {\n",
       "        vertical-align: middle;\n",
       "    }\n",
       "\n",
       "    .dataframe tbody tr th {\n",
       "        vertical-align: top;\n",
       "    }\n",
       "\n",
       "    .dataframe thead th {\n",
       "        text-align: right;\n",
       "    }\n",
       "</style>\n",
       "<table border=\"1\" class=\"dataframe\">\n",
       "  <thead>\n",
       "    <tr style=\"text-align: right;\">\n",
       "      <th></th>\n",
       "      <th>User</th>\n",
       "      <th>Post Type</th>\n",
       "      <th>Post Date</th>\n",
       "    </tr>\n",
       "  </thead>\n",
       "  <tbody>\n",
       "    <tr>\n",
       "      <th>0</th>\n",
       "      <td>1</td>\n",
       "      <td>Image</td>\n",
       "      <td>1588166977</td>\n",
       "    </tr>\n",
       "    <tr>\n",
       "      <th>1</th>\n",
       "      <td>1</td>\n",
       "      <td>Status_Change</td>\n",
       "      <td>1588167686</td>\n",
       "    </tr>\n",
       "    <tr>\n",
       "      <th>2</th>\n",
       "      <td>1</td>\n",
       "      <td>Text</td>\n",
       "      <td>1588168633</td>\n",
       "    </tr>\n",
       "    <tr>\n",
       "      <th>3</th>\n",
       "      <td>1</td>\n",
       "      <td>Image</td>\n",
       "      <td>1588163570</td>\n",
       "    </tr>\n",
       "    <tr>\n",
       "      <th>4</th>\n",
       "      <td>1</td>\n",
       "      <td>Image</td>\n",
       "      <td>1588168986</td>\n",
       "    </tr>\n",
       "  </tbody>\n",
       "</table>\n",
       "</div>"
      ],
      "text/plain": [
       "   User      Post Type   Post Date\n",
       "0     1          Image  1588166977\n",
       "1     1  Status_Change  1588167686\n",
       "2     1           Text  1588168633\n",
       "3     1          Image  1588163570\n",
       "4     1          Image  1588168986"
      ]
     },
     "execution_count": 6,
     "metadata": {},
     "output_type": "execute_result"
    }
   ],
   "source": [
    "posts_df = open_data('posts_table.csv')\n",
    "posts_df.head()"
   ]
  },
  {
   "cell_type": "code",
   "execution_count": 7,
   "id": "75ece3fb",
   "metadata": {},
   "outputs": [
    {
     "data": {
      "text/plain": [
       "count    13158.000000\n",
       "mean       504.566347\n",
       "std        289.159974\n",
       "min          1.000000\n",
       "25%        257.000000\n",
       "50%        500.000000\n",
       "75%        757.000000\n",
       "max       1000.000000\n",
       "Name: User, dtype: float64"
      ]
     },
     "execution_count": 7,
     "metadata": {},
     "output_type": "execute_result"
    }
   ],
   "source": [
    "posts_df.User.describe()"
   ]
  },
  {
   "cell_type": "markdown",
   "id": "d9b27803",
   "metadata": {},
   "source": [
    "### Load the reaction reaction table"
   ]
  },
  {
   "cell_type": "code",
   "execution_count": 74,
   "id": "8db8cb4b",
   "metadata": {},
   "outputs": [
    {
     "data": {
      "text/html": [
       "<div>\n",
       "<style scoped>\n",
       "    .dataframe tbody tr th:only-of-type {\n",
       "        vertical-align: middle;\n",
       "    }\n",
       "\n",
       "    .dataframe tbody tr th {\n",
       "        vertical-align: top;\n",
       "    }\n",
       "\n",
       "    .dataframe thead th {\n",
       "        text-align: right;\n",
       "    }\n",
       "</style>\n",
       "<table border=\"1\" class=\"dataframe\">\n",
       "  <thead>\n",
       "    <tr style=\"text-align: right;\">\n",
       "      <th></th>\n",
       "      <th>User</th>\n",
       "      <th>Reaction Type</th>\n",
       "      <th>Reaction Date</th>\n",
       "    </tr>\n",
       "  </thead>\n",
       "  <tbody>\n",
       "    <tr>\n",
       "      <th>0</th>\n",
       "      <td>3741</td>\n",
       "      <td>Comment</td>\n",
       "      <td>1588168107</td>\n",
       "    </tr>\n",
       "    <tr>\n",
       "      <th>1</th>\n",
       "      <td>711</td>\n",
       "      <td>Emoticon</td>\n",
       "      <td>1588166846</td>\n",
       "    </tr>\n",
       "    <tr>\n",
       "      <th>2</th>\n",
       "      <td>701</td>\n",
       "      <td>Emoticon</td>\n",
       "      <td>1588163334</td>\n",
       "    </tr>\n",
       "    <tr>\n",
       "      <th>3</th>\n",
       "      <td>4750</td>\n",
       "      <td>Emoticon</td>\n",
       "      <td>1588168182</td>\n",
       "    </tr>\n",
       "    <tr>\n",
       "      <th>4</th>\n",
       "      <td>656</td>\n",
       "      <td>Comment</td>\n",
       "      <td>1588162272</td>\n",
       "    </tr>\n",
       "  </tbody>\n",
       "</table>\n",
       "</div>"
      ],
      "text/plain": [
       "   User Reaction Type  Reaction Date\n",
       "0  3741       Comment     1588168107\n",
       "1   711      Emoticon     1588166846\n",
       "2   701      Emoticon     1588163334\n",
       "3  4750      Emoticon     1588168182\n",
       "4   656       Comment     1588162272"
      ]
     },
     "execution_count": 74,
     "metadata": {},
     "output_type": "execute_result"
    }
   ],
   "source": [
    "reactions_df = open_data('reactions_table.csv')\n",
    "reactions_df.head()"
   ]
  },
  {
   "cell_type": "markdown",
   "id": "8ff0f131",
   "metadata": {},
   "source": [
    "### Load User information Data "
   ]
  },
  {
   "cell_type": "code",
   "execution_count": 81,
   "id": "0cebfb74",
   "metadata": {},
   "outputs": [
    {
     "data": {
      "text/html": [
       "<div>\n",
       "<style scoped>\n",
       "    .dataframe tbody tr th:only-of-type {\n",
       "        vertical-align: middle;\n",
       "    }\n",
       "\n",
       "    .dataframe tbody tr th {\n",
       "        vertical-align: top;\n",
       "    }\n",
       "\n",
       "    .dataframe thead th {\n",
       "        text-align: right;\n",
       "    }\n",
       "</style>\n",
       "<table border=\"1\" class=\"dataframe\">\n",
       "  <thead>\n",
       "    <tr style=\"text-align: right;\">\n",
       "      <th></th>\n",
       "      <th>Surname</th>\n",
       "      <th>Name</th>\n",
       "      <th>Age</th>\n",
       "      <th>Subscription Date</th>\n",
       "    </tr>\n",
       "  </thead>\n",
       "  <tbody>\n",
       "    <tr>\n",
       "      <th>0</th>\n",
       "      <td>Smith</td>\n",
       "      <td>Sarah</td>\n",
       "      <td>30</td>\n",
       "      <td>1588157373</td>\n",
       "    </tr>\n",
       "    <tr>\n",
       "      <th>1</th>\n",
       "      <td>Picard</td>\n",
       "      <td>Francine</td>\n",
       "      <td>32</td>\n",
       "      <td>1588161732</td>\n",
       "    </tr>\n",
       "    <tr>\n",
       "      <th>2</th>\n",
       "      <td>Roth</td>\n",
       "      <td>Hans</td>\n",
       "      <td>40</td>\n",
       "      <td>1588157337</td>\n",
       "    </tr>\n",
       "    <tr>\n",
       "      <th>3</th>\n",
       "      <td>Pomme</td>\n",
       "      <td>Ali</td>\n",
       "      <td>28</td>\n",
       "      <td>1588165636</td>\n",
       "    </tr>\n",
       "    <tr>\n",
       "      <th>4</th>\n",
       "      <td>Di Lillo</td>\n",
       "      <td>Jordi</td>\n",
       "      <td>42</td>\n",
       "      <td>1588156042</td>\n",
       "    </tr>\n",
       "  </tbody>\n",
       "</table>\n",
       "</div>"
      ],
      "text/plain": [
       "    Surname      Name  Age  Subscription Date\n",
       "0     Smith     Sarah   30         1588157373\n",
       "1    Picard  Francine   32         1588161732\n",
       "2      Roth      Hans   40         1588157337\n",
       "3     Pomme       Ali   28         1588165636\n",
       "4  Di Lillo     Jordi   42         1588156042"
      ]
     },
     "execution_count": 81,
     "metadata": {},
     "output_type": "execute_result"
    }
   ],
   "source": [
    "users_df = open_data('user_table.csv')\n",
    "users_df.head()"
   ]
  },
  {
   "cell_type": "markdown",
   "id": "875c9527",
   "metadata": {},
   "source": [
    "### Transform the User Data"
   ]
  },
  {
   "cell_type": "code",
   "execution_count": 82,
   "id": "641831f3",
   "metadata": {},
   "outputs": [
    {
     "data": {
      "text/html": [
       "<div>\n",
       "<style scoped>\n",
       "    .dataframe tbody tr th:only-of-type {\n",
       "        vertical-align: middle;\n",
       "    }\n",
       "\n",
       "    .dataframe tbody tr th {\n",
       "        vertical-align: top;\n",
       "    }\n",
       "\n",
       "    .dataframe thead th {\n",
       "        text-align: right;\n",
       "    }\n",
       "</style>\n",
       "<table border=\"1\" class=\"dataframe\">\n",
       "  <thead>\n",
       "    <tr style=\"text-align: right;\">\n",
       "      <th></th>\n",
       "      <th>Surname</th>\n",
       "      <th>Name</th>\n",
       "      <th>Age</th>\n",
       "      <th>Subscription Date</th>\n",
       "      <th>User</th>\n",
       "    </tr>\n",
       "  </thead>\n",
       "  <tbody>\n",
       "    <tr>\n",
       "      <th>0</th>\n",
       "      <td>Smith</td>\n",
       "      <td>Sarah</td>\n",
       "      <td>30</td>\n",
       "      <td>1588157373</td>\n",
       "      <td>1</td>\n",
       "    </tr>\n",
       "    <tr>\n",
       "      <th>1</th>\n",
       "      <td>Picard</td>\n",
       "      <td>Francine</td>\n",
       "      <td>32</td>\n",
       "      <td>1588161732</td>\n",
       "      <td>2</td>\n",
       "    </tr>\n",
       "    <tr>\n",
       "      <th>2</th>\n",
       "      <td>Roth</td>\n",
       "      <td>Hans</td>\n",
       "      <td>40</td>\n",
       "      <td>1588157337</td>\n",
       "      <td>3</td>\n",
       "    </tr>\n",
       "    <tr>\n",
       "      <th>3</th>\n",
       "      <td>Pomme</td>\n",
       "      <td>Ali</td>\n",
       "      <td>28</td>\n",
       "      <td>1588165636</td>\n",
       "      <td>4</td>\n",
       "    </tr>\n",
       "    <tr>\n",
       "      <th>4</th>\n",
       "      <td>Di Lillo</td>\n",
       "      <td>Jordi</td>\n",
       "      <td>42</td>\n",
       "      <td>1588156042</td>\n",
       "      <td>5</td>\n",
       "    </tr>\n",
       "    <tr>\n",
       "      <th>...</th>\n",
       "      <td>...</td>\n",
       "      <td>...</td>\n",
       "      <td>...</td>\n",
       "      <td>...</td>\n",
       "      <td>...</td>\n",
       "    </tr>\n",
       "    <tr>\n",
       "      <th>995</th>\n",
       "      <td>Kirk</td>\n",
       "      <td>Lee</td>\n",
       "      <td>19</td>\n",
       "      <td>1588160246</td>\n",
       "      <td>996</td>\n",
       "    </tr>\n",
       "    <tr>\n",
       "      <th>996</th>\n",
       "      <td>Pomme</td>\n",
       "      <td>Franz</td>\n",
       "      <td>40</td>\n",
       "      <td>1588159625</td>\n",
       "      <td>997</td>\n",
       "    </tr>\n",
       "    <tr>\n",
       "      <th>997</th>\n",
       "      <td>Gwahsi</td>\n",
       "      <td>Thomas</td>\n",
       "      <td>40</td>\n",
       "      <td>1588165504</td>\n",
       "      <td>998</td>\n",
       "    </tr>\n",
       "    <tr>\n",
       "      <th>998</th>\n",
       "      <td>Beierlorzer</td>\n",
       "      <td>Jean-Luc</td>\n",
       "      <td>32</td>\n",
       "      <td>1588151074</td>\n",
       "      <td>999</td>\n",
       "    </tr>\n",
       "    <tr>\n",
       "      <th>999</th>\n",
       "      <td>Thronton</td>\n",
       "      <td>Franz</td>\n",
       "      <td>28</td>\n",
       "      <td>1588171183</td>\n",
       "      <td>1000</td>\n",
       "    </tr>\n",
       "  </tbody>\n",
       "</table>\n",
       "<p>1000 rows × 5 columns</p>\n",
       "</div>"
      ],
      "text/plain": [
       "         Surname      Name  Age  Subscription Date  User\n",
       "0          Smith     Sarah   30         1588157373     1\n",
       "1         Picard  Francine   32         1588161732     2\n",
       "2           Roth      Hans   40         1588157337     3\n",
       "3          Pomme       Ali   28         1588165636     4\n",
       "4       Di Lillo     Jordi   42         1588156042     5\n",
       "..           ...       ...  ...                ...   ...\n",
       "995         Kirk       Lee   19         1588160246   996\n",
       "996        Pomme     Franz   40         1588159625   997\n",
       "997       Gwahsi    Thomas   40         1588165504   998\n",
       "998  Beierlorzer  Jean-Luc   32         1588151074   999\n",
       "999     Thronton     Franz   28         1588171183  1000\n",
       "\n",
       "[1000 rows x 5 columns]"
      ]
     },
     "execution_count": 82,
     "metadata": {},
     "output_type": "execute_result"
    }
   ],
   "source": [
    "users_df[\"User\"]= list(range(1,(len(users_df)+1)))\n",
    "users_df"
   ]
  },
  {
   "cell_type": "markdown",
   "id": "1fbfbcc3",
   "metadata": {},
   "source": [
    "### Merge Name"
   ]
  },
  {
   "cell_type": "code",
   "execution_count": 83,
   "id": "8c5cb4f6",
   "metadata": {},
   "outputs": [
    {
     "data": {
      "text/html": [
       "<div>\n",
       "<style scoped>\n",
       "    .dataframe tbody tr th:only-of-type {\n",
       "        vertical-align: middle;\n",
       "    }\n",
       "\n",
       "    .dataframe tbody tr th {\n",
       "        vertical-align: top;\n",
       "    }\n",
       "\n",
       "    .dataframe thead th {\n",
       "        text-align: right;\n",
       "    }\n",
       "</style>\n",
       "<table border=\"1\" class=\"dataframe\">\n",
       "  <thead>\n",
       "    <tr style=\"text-align: right;\">\n",
       "      <th></th>\n",
       "      <th>User</th>\n",
       "      <th>Age</th>\n",
       "      <th>name</th>\n",
       "      <th>Subscription Date</th>\n",
       "    </tr>\n",
       "  </thead>\n",
       "  <tbody>\n",
       "    <tr>\n",
       "      <th>0</th>\n",
       "      <td>1</td>\n",
       "      <td>30</td>\n",
       "      <td>Smith Sarah</td>\n",
       "      <td>1588157373</td>\n",
       "    </tr>\n",
       "    <tr>\n",
       "      <th>1</th>\n",
       "      <td>2</td>\n",
       "      <td>32</td>\n",
       "      <td>Picard Francine</td>\n",
       "      <td>1588161732</td>\n",
       "    </tr>\n",
       "    <tr>\n",
       "      <th>2</th>\n",
       "      <td>3</td>\n",
       "      <td>40</td>\n",
       "      <td>Roth Hans</td>\n",
       "      <td>1588157337</td>\n",
       "    </tr>\n",
       "    <tr>\n",
       "      <th>3</th>\n",
       "      <td>4</td>\n",
       "      <td>28</td>\n",
       "      <td>Pomme Ali</td>\n",
       "      <td>1588165636</td>\n",
       "    </tr>\n",
       "    <tr>\n",
       "      <th>4</th>\n",
       "      <td>5</td>\n",
       "      <td>42</td>\n",
       "      <td>Di Lillo Jordi</td>\n",
       "      <td>1588156042</td>\n",
       "    </tr>\n",
       "    <tr>\n",
       "      <th>...</th>\n",
       "      <td>...</td>\n",
       "      <td>...</td>\n",
       "      <td>...</td>\n",
       "      <td>...</td>\n",
       "    </tr>\n",
       "    <tr>\n",
       "      <th>995</th>\n",
       "      <td>996</td>\n",
       "      <td>19</td>\n",
       "      <td>Kirk Lee</td>\n",
       "      <td>1588160246</td>\n",
       "    </tr>\n",
       "    <tr>\n",
       "      <th>996</th>\n",
       "      <td>997</td>\n",
       "      <td>40</td>\n",
       "      <td>Pomme Franz</td>\n",
       "      <td>1588159625</td>\n",
       "    </tr>\n",
       "    <tr>\n",
       "      <th>997</th>\n",
       "      <td>998</td>\n",
       "      <td>40</td>\n",
       "      <td>Gwahsi Thomas</td>\n",
       "      <td>1588165504</td>\n",
       "    </tr>\n",
       "    <tr>\n",
       "      <th>998</th>\n",
       "      <td>999</td>\n",
       "      <td>32</td>\n",
       "      <td>Beierlorzer Jean-Luc</td>\n",
       "      <td>1588151074</td>\n",
       "    </tr>\n",
       "    <tr>\n",
       "      <th>999</th>\n",
       "      <td>1000</td>\n",
       "      <td>28</td>\n",
       "      <td>Thronton Franz</td>\n",
       "      <td>1588171183</td>\n",
       "    </tr>\n",
       "  </tbody>\n",
       "</table>\n",
       "<p>1000 rows × 4 columns</p>\n",
       "</div>"
      ],
      "text/plain": [
       "     User  Age                  name  Subscription Date\n",
       "0       1   30           Smith Sarah         1588157373\n",
       "1       2   32       Picard Francine         1588161732\n",
       "2       3   40             Roth Hans         1588157337\n",
       "3       4   28             Pomme Ali         1588165636\n",
       "4       5   42        Di Lillo Jordi         1588156042\n",
       "..    ...  ...                   ...                ...\n",
       "995   996   19              Kirk Lee         1588160246\n",
       "996   997   40           Pomme Franz         1588159625\n",
       "997   998   40         Gwahsi Thomas         1588165504\n",
       "998   999   32  Beierlorzer Jean-Luc         1588151074\n",
       "999  1000   28        Thronton Franz         1588171183\n",
       "\n",
       "[1000 rows x 4 columns]"
      ]
     },
     "execution_count": 83,
     "metadata": {},
     "output_type": "execute_result"
    }
   ],
   "source": [
    "def get_name(file):\n",
    "    file[\"name\"] = file[\"Surname\"]+ \" \" + file[\"Name\"]\n",
    "    file.drop([\"Surname\",\"Name\"], axis = 1)\n",
    "    return file[[\"User\", \"Age\", \"name\", \"Subscription Date\"]]\n",
    "\n",
    "users_df = get_name(users_df)\n",
    "users_df"
   ]
  },
  {
   "cell_type": "markdown",
   "id": "271062bb",
   "metadata": {},
   "source": [
    "### Transform Columns"
   ]
  },
  {
   "cell_type": "code",
   "execution_count": 85,
   "id": "d18cf1ef",
   "metadata": {},
   "outputs": [
    {
     "data": {
      "text/html": [
       "<div>\n",
       "<style scoped>\n",
       "    .dataframe tbody tr th:only-of-type {\n",
       "        vertical-align: middle;\n",
       "    }\n",
       "\n",
       "    .dataframe tbody tr th {\n",
       "        vertical-align: top;\n",
       "    }\n",
       "\n",
       "    .dataframe thead th {\n",
       "        text-align: right;\n",
       "    }\n",
       "</style>\n",
       "<table border=\"1\" class=\"dataframe\">\n",
       "  <thead>\n",
       "    <tr style=\"text-align: right;\">\n",
       "      <th></th>\n",
       "      <th>user</th>\n",
       "      <th>age</th>\n",
       "      <th>name</th>\n",
       "      <th>subscription_date</th>\n",
       "    </tr>\n",
       "  </thead>\n",
       "  <tbody>\n",
       "    <tr>\n",
       "      <th>0</th>\n",
       "      <td>1</td>\n",
       "      <td>30</td>\n",
       "      <td>Smith Sarah</td>\n",
       "      <td>1588157373</td>\n",
       "    </tr>\n",
       "    <tr>\n",
       "      <th>1</th>\n",
       "      <td>2</td>\n",
       "      <td>32</td>\n",
       "      <td>Picard Francine</td>\n",
       "      <td>1588161732</td>\n",
       "    </tr>\n",
       "    <tr>\n",
       "      <th>2</th>\n",
       "      <td>3</td>\n",
       "      <td>40</td>\n",
       "      <td>Roth Hans</td>\n",
       "      <td>1588157337</td>\n",
       "    </tr>\n",
       "    <tr>\n",
       "      <th>3</th>\n",
       "      <td>4</td>\n",
       "      <td>28</td>\n",
       "      <td>Pomme Ali</td>\n",
       "      <td>1588165636</td>\n",
       "    </tr>\n",
       "    <tr>\n",
       "      <th>4</th>\n",
       "      <td>5</td>\n",
       "      <td>42</td>\n",
       "      <td>Di Lillo Jordi</td>\n",
       "      <td>1588156042</td>\n",
       "    </tr>\n",
       "    <tr>\n",
       "      <th>...</th>\n",
       "      <td>...</td>\n",
       "      <td>...</td>\n",
       "      <td>...</td>\n",
       "      <td>...</td>\n",
       "    </tr>\n",
       "    <tr>\n",
       "      <th>995</th>\n",
       "      <td>996</td>\n",
       "      <td>19</td>\n",
       "      <td>Kirk Lee</td>\n",
       "      <td>1588160246</td>\n",
       "    </tr>\n",
       "    <tr>\n",
       "      <th>996</th>\n",
       "      <td>997</td>\n",
       "      <td>40</td>\n",
       "      <td>Pomme Franz</td>\n",
       "      <td>1588159625</td>\n",
       "    </tr>\n",
       "    <tr>\n",
       "      <th>997</th>\n",
       "      <td>998</td>\n",
       "      <td>40</td>\n",
       "      <td>Gwahsi Thomas</td>\n",
       "      <td>1588165504</td>\n",
       "    </tr>\n",
       "    <tr>\n",
       "      <th>998</th>\n",
       "      <td>999</td>\n",
       "      <td>32</td>\n",
       "      <td>Beierlorzer Jean-Luc</td>\n",
       "      <td>1588151074</td>\n",
       "    </tr>\n",
       "    <tr>\n",
       "      <th>999</th>\n",
       "      <td>1000</td>\n",
       "      <td>28</td>\n",
       "      <td>Thronton Franz</td>\n",
       "      <td>1588171183</td>\n",
       "    </tr>\n",
       "  </tbody>\n",
       "</table>\n",
       "<p>1000 rows × 4 columns</p>\n",
       "</div>"
      ],
      "text/plain": [
       "     user  age                  name  subscription_date\n",
       "0       1   30           Smith Sarah         1588157373\n",
       "1       2   32       Picard Francine         1588161732\n",
       "2       3   40             Roth Hans         1588157337\n",
       "3       4   28             Pomme Ali         1588165636\n",
       "4       5   42        Di Lillo Jordi         1588156042\n",
       "..    ...  ...                   ...                ...\n",
       "995   996   19              Kirk Lee         1588160246\n",
       "996   997   40           Pomme Franz         1588159625\n",
       "997   998   40         Gwahsi Thomas         1588165504\n",
       "998   999   32  Beierlorzer Jean-Luc         1588151074\n",
       "999  1000   28        Thronton Franz         1588171183\n",
       "\n",
       "[1000 rows x 4 columns]"
      ]
     },
     "execution_count": 85,
     "metadata": {},
     "output_type": "execute_result"
    }
   ],
   "source": [
    "def columns_trans(data):\n",
    "    name =  [file.lower().replace(\" \",\"_\") for file in data.columns.astype(str)]\n",
    "    data.columns = name\n",
    "    return data\n",
    "    \n",
    "\n",
    "users_df = columns_trans(users_df)\n",
    "users_df"
   ]
  },
  {
   "cell_type": "markdown",
   "id": "48cd1884",
   "metadata": {},
   "source": [
    "## Database Connection\n",
    "\n",
    "Create a connection to the database"
   ]
  },
  {
   "cell_type": "markdown",
   "id": "2ad5a1f6",
   "metadata": {},
   "source": [
    "List of data we are using\n",
    "\n",
    "* users_df \n",
    "* reactions_df\n",
    "* posts_df\n",
    "* friends_df"
   ]
  },
  {
   "cell_type": "code",
   "execution_count": 133,
   "id": "3f9e860d",
   "metadata": {},
   "outputs": [],
   "source": [
    "def create_database():\n",
    "    # connect to default database\n",
    "    conn = psycopg2.connect(\"host=localhost dbname=postgres user=postgres password = 1118\")\n",
    "    conn.set_session(autocommit = True)\n",
    "    cur = conn.cursor()\n",
    "    \n",
    "    \n",
    "    \n",
    "    # create sparkify database with UTF8 enconding\n",
    "    cur.execute(\"DROP DATABASE IF EXISTS socialmedia\")\n",
    "    cur.execute(\"CREATE DATABASE socialmedia\")\n",
    "    \n",
    "    \n",
    "    #close connection to efault database\n",
    "    conn.close()\n",
    "    \n",
    "    \n",
    "    # connect to sparkify database\n",
    "    conn = psycopg2.connect(\"host=localhost dbname=socialmedia user=postgres password=1118\")\n",
    "    conn.set_session(autocommit = True) # set commit to automatic\n",
    "    cur = conn.cursor()\n",
    "    \n",
    "    return cur,conn"
   ]
  },
  {
   "cell_type": "code",
   "execution_count": 134,
   "id": "814b0ca3",
   "metadata": {},
   "outputs": [],
   "source": [
    "def drop_tables(cur,conn):\n",
    "    for query in drop_table_queries:\n",
    "        cur.execute(query)\n",
    "        conn.commit()   "
   ]
  },
  {
   "cell_type": "markdown",
   "id": "b2e06496",
   "metadata": {},
   "source": [
    "### Call the create_database function to create your database"
   ]
  },
  {
   "cell_type": "code",
   "execution_count": null,
   "id": "0ce9aa77",
   "metadata": {},
   "outputs": [],
   "source": [
    "cur,conn = create_database()"
   ]
  },
  {
   "cell_type": "markdown",
   "id": "f4dcae79",
   "metadata": {},
   "source": [
    "### Create database table for USER"
   ]
  },
  {
   "cell_type": "code",
   "execution_count": 136,
   "id": "f0ab2977",
   "metadata": {},
   "outputs": [
    {
     "data": {
      "text/plain": [
       "Index(['user', 'age', 'name', 'subscription_date'], dtype='object')"
      ]
     },
     "execution_count": 136,
     "metadata": {},
     "output_type": "execute_result"
    }
   ],
   "source": [
    "users_df.columns"
   ]
  },
  {
   "cell_type": "code",
   "execution_count": 137,
   "id": "ae07ae0c",
   "metadata": {},
   "outputs": [],
   "source": [
    "user_table_create = (\"\"\"CREATE TABLE IF NOT EXISTS user_info(\n",
    "user_id VARCHAR PRIMARY KEY,\n",
    "age INT,\n",
    "name VARCHAR,\n",
    "subscription_date INT);\"\"\")\n",
    "\n",
    "cur.execute(user_table_create)"
   ]
  },
  {
   "cell_type": "markdown",
   "id": "6df84ab4",
   "metadata": {},
   "source": [
    "### Insert Data into the user table"
   ]
  },
  {
   "cell_type": "code",
   "execution_count": 145,
   "id": "c13d36fb",
   "metadata": {},
   "outputs": [],
   "source": [
    "user_table_insert = (\"\"\"INSERT INTO user_info (\n",
    "user_id,\n",
    "age,\n",
    "name,\n",
    "subscription_date)\n",
    "VALUES(%s, %s, %s, %s);\"\"\")"
   ]
  },
  {
   "cell_type": "code",
   "execution_count": 147,
   "id": "268e4a33",
   "metadata": {},
   "outputs": [],
   "source": [
    "for i, row in users_df.iterrows():\n",
    "    cur.execute(user_table_insert, list(row))"
   ]
  },
  {
   "cell_type": "markdown",
   "id": "f8d42a49",
   "metadata": {},
   "source": [
    "### Create database table for Reactions"
   ]
  },
  {
   "cell_type": "code",
   "execution_count": 139,
   "id": "14bc7534",
   "metadata": {},
   "outputs": [
    {
     "data": {
      "text/plain": [
       "Index(['User', 'Reaction Type', 'Reaction Date'], dtype='object')"
      ]
     },
     "execution_count": 139,
     "metadata": {},
     "output_type": "execute_result"
    }
   ],
   "source": [
    "reactions_df.columns"
   ]
  },
  {
   "cell_type": "code",
   "execution_count": 140,
   "id": "3ccfa8f5",
   "metadata": {},
   "outputs": [],
   "source": [
    "reactions_table_create = (\"\"\"CREATE TABLE IF NOT EXISTS reactions(\n",
    "user_id VARCHAR,\n",
    "reactions VARCHAR,\n",
    "reaction_date INT);\"\"\")\n",
    "\n",
    "cur.execute(reactions_table_create)"
   ]
  },
  {
   "cell_type": "markdown",
   "id": "5e3b304b",
   "metadata": {},
   "source": [
    "### Insert Data into reactions table"
   ]
  },
  {
   "cell_type": "code",
   "execution_count": 153,
   "id": "5e34e693",
   "metadata": {},
   "outputs": [],
   "source": [
    "reactions_table_insert = (\"\"\"INSERT INTO  reactions (\n",
    "user_id,\n",
    "reactions,\n",
    "reaction_date)\n",
    "VALUES(%s, %s, %s);\"\"\")\n",
    "\n",
    "for i, row in reactions_df.iterrows():\n",
    "    cur.execute(reactions_table_insert, list(row))"
   ]
  },
  {
   "cell_type": "markdown",
   "id": "87b6d1e4",
   "metadata": {},
   "source": [
    "### Create database table for Friends"
   ]
  },
  {
   "cell_type": "code",
   "execution_count": 141,
   "id": "7fec1009",
   "metadata": {},
   "outputs": [
    {
     "data": {
      "text/plain": [
       "Index(['Friend 1', 'Friend 2'], dtype='object')"
      ]
     },
     "execution_count": 141,
     "metadata": {},
     "output_type": "execute_result"
    }
   ],
   "source": [
    "friends_df.columns"
   ]
  },
  {
   "cell_type": "code",
   "execution_count": 142,
   "id": "4ab15cef",
   "metadata": {},
   "outputs": [],
   "source": [
    "friends_table_create = (\"\"\"CREATE TABLE IF NOT EXISTS friends(\n",
    "friend1 VARCHAR,\n",
    "friend2 VARCHAR\n",
    ");\"\"\")\n",
    "\n",
    "cur.execute(friends_table_create)"
   ]
  },
  {
   "cell_type": "markdown",
   "id": "8dc34dde",
   "metadata": {},
   "source": [
    "### Insert Data into friends table"
   ]
  },
  {
   "cell_type": "code",
   "execution_count": 156,
   "id": "36d5d8ef",
   "metadata": {},
   "outputs": [],
   "source": [
    "friends_table_insert = (\"\"\"INSERT INTO  friends (\n",
    "friend1,\n",
    "friend2)\n",
    "VALUES(%s, %s);\"\"\")\n",
    "\n",
    "for i, row in friends_df.iterrows():\n",
    "    cur.execute(friends_table_insert, list(row))"
   ]
  },
  {
   "cell_type": "markdown",
   "id": "f3f0c2b8",
   "metadata": {},
   "source": [
    "### Create database for Posts"
   ]
  },
  {
   "cell_type": "code",
   "execution_count": 143,
   "id": "0f9e30a8",
   "metadata": {},
   "outputs": [
    {
     "data": {
      "text/plain": [
       "Index(['User', 'Post Type', 'Post Date'], dtype='object')"
      ]
     },
     "execution_count": 143,
     "metadata": {},
     "output_type": "execute_result"
    }
   ],
   "source": [
    "posts_df.columns"
   ]
  },
  {
   "cell_type": "code",
   "execution_count": 144,
   "id": "fe310e16",
   "metadata": {},
   "outputs": [],
   "source": [
    "posts_table_create = (\"\"\"CREATE TABLE IF NOT EXISTS posts(\n",
    "User_id VARCHAR,\n",
    "post_type VARCHAR,\n",
    "post_date VARCHAR\n",
    ");\"\"\")\n",
    "\n",
    "cur.execute(posts_table_create)"
   ]
  },
  {
   "cell_type": "markdown",
   "id": "c99798dd",
   "metadata": {},
   "source": [
    "### Insert Data into Posts table"
   ]
  },
  {
   "cell_type": "code",
   "execution_count": 157,
   "id": "7928a785",
   "metadata": {},
   "outputs": [],
   "source": [
    "posts_table_insert = (\"\"\"INSERT INTO  posts (\n",
    "user_id,\n",
    "post_type,\n",
    "post_date)\n",
    "VALUES(%s, %s, %s);\"\"\")\n",
    "\n",
    "for i, row in posts_df.iterrows():\n",
    "    cur.execute(posts_table_insert, list(row))"
   ]
  },
  {
   "cell_type": "markdown",
   "id": "ee228f34",
   "metadata": {},
   "source": [
    "## Connect to the already created Database"
   ]
  },
  {
   "cell_type": "code",
   "execution_count": 6,
   "id": "defcadd4",
   "metadata": {},
   "outputs": [],
   "source": [
    "conn = psycopg2.connect(\"host=localhost dbname=socialmedia user=postgres password=1118\")\n",
    "conn.set_session(autocommit = True) # set commit to automatic\n",
    "cur = conn.cursor()"
   ]
  },
  {
   "cell_type": "markdown",
   "id": "ccd70f44",
   "metadata": {},
   "source": [
    "## Writing Query to answer Questions"
   ]
  },
  {
   "cell_type": "markdown",
   "id": "502b1e2b",
   "metadata": {},
   "source": [
    "* What is the most common name on the social net? How many people belong to that name?"
   ]
  },
  {
   "cell_type": "code",
   "execution_count": 7,
   "id": "867747d9",
   "metadata": {},
   "outputs": [],
   "source": [
    "query1 = \"\"\"SELECT (name), COUNT(*) AS name_count\n",
    "FROM user_info\n",
    "GROUP BY name\n",
    "ORDER BY name_count desc\n",
    "LIMIT 10;\"\"\""
   ]
  },
  {
   "cell_type": "code",
   "execution_count": 19,
   "id": "b33dc96f",
   "metadata": {},
   "outputs": [
    {
     "name": "stdout",
     "output_type": "stream",
     "text": [
      "('Bond Josie', 11)\n",
      "('Smith Thomas', 10)\n",
      "('Picard Timothy', 10)\n",
      "('Meier Thomas', 10)\n",
      "('Bond Sarah', 10)\n",
      "('Kirk Jordi', 8)\n",
      "('Mueller Ali', 8)\n",
      "('Mueller Franz', 8)\n",
      "('Mueller Simon', 8)\n",
      "('Smith Sarah', 8)\n"
     ]
    }
   ],
   "source": [
    "cur.execute(query1)\n",
    "\n",
    "for row in cur.fetchall():\n",
    "    print(row)"
   ]
  },
  {
   "cell_type": "code",
   "execution_count": 20,
   "id": "30f62aea",
   "metadata": {},
   "outputs": [
    {
     "data": {
      "image/png": "[encoded data removed]",
      "text/plain": [
       "<IPython.core.display.Image object>"
      ]
     },
     "execution_count": 20,
     "metadata": {},
     "output_type": "execute_result"
    }
   ],
   "source": [
    "from IPython.display import Image\n",
    "Image(filename='picture_1.png') "
   ]
  },
  {
   "cell_type": "markdown",
   "id": "2c6d4404",
   "metadata": {},
   "source": [
    "* List the five people with the most posts and reactions combined."
   ]
  },
  {
   "cell_type": "code",
   "execution_count": 26,
   "id": "727e423c",
   "metadata": {},
   "outputs": [],
   "source": [
    "query2 = \"\"\"SELECT user_info.user_id AS id, name, COUNT(pr) AS posts_and_reactions\n",
    "from user_info, \n",
    "(SELECT  posts.user_id \n",
    "FROM posts\n",
    "INNER JOIN reactions\n",
    "ON reactions.user_id = posts.user_id) as pr\n",
    "WHERE user_info.user_id = pr.user_id\n",
    "GROUP BY id, name\n",
    "ORDER BY posts_and_reactions desc \n",
    "LIMIT 5;\"\"\""
   ]
  },
  {
   "cell_type": "code",
   "execution_count": 28,
   "id": "013a8af1",
   "metadata": {},
   "outputs": [
    {
     "name": "stdout",
     "output_type": "stream",
     "text": [
      "('642', 'Mueller Ali', 5208)\n",
      "('664', 'Picard Zoe', 3120)\n",
      "('67', 'Gwahsi Agaba', 2730)\n",
      "('690', 'Di Lillo Robert', 2728)\n",
      "('465', 'Bond Hans', 2712)\n"
     ]
    }
   ],
   "source": [
    "cur.execute(query2)\n",
    "for row in cur.fetchall():\n",
    "    print(row)"
   ]
  },
  {
   "cell_type": "code",
   "execution_count": 21,
   "id": "e8967b28",
   "metadata": {},
   "outputs": [
    {
     "data": {
      "image/png": "[encoded data removed]",
      "text/plain": [
       "<IPython.core.display.Image object>"
      ]
     },
     "execution_count": 21,
     "metadata": {},
     "output_type": "execute_result"
    }
   ],
   "source": [
    "Image(filename = \"picture_2.png\")"
   ]
  },
  {
   "cell_type": "code",
   "execution_count": null,
   "id": "7be0f3aa",
   "metadata": {},
   "outputs": [],
   "source": []
  }
 ],
 "metadata": {
  "kernelspec": {
   "display_name": "Python 3 (ipykernel)",
   "language": "python",
   "name": "python3"
  },
  "language_info": {
   "codemirror_mode": {
    "name": "ipython",
    "version": 3
   },
   "file_extension": ".py",
   "mimetype": "text/x-python",
   "name": "python",
   "nbconvert_exporter": "python",
   "pygments_lexer": "ipython3",
   "version": "3.7.0"
  }
 },
 "nbformat": 4,
 "nbformat_minor": 5
}
